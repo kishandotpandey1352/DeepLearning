{
 "cells": [
  {
   "cell_type": "code",
   "execution_count": 1,
   "metadata": {},
   "outputs": [
    {
     "name": "stderr",
     "output_type": "stream",
     "text": [
      "Using TensorFlow backend.\n"
     ]
    }
   ],
   "source": [
    "import keras\n",
    "from keras.layers import Conv2D, MaxPooling2D\n",
    "from keras.layers import Dense, Flatten\n",
    "from keras.models import Sequential"
   ]
  },
  {
   "cell_type": "code",
   "execution_count": 2,
   "metadata": {},
   "outputs": [],
   "source": [
    "model = Sequential()\n",
    "# Select 6 feature convolution kernels with a size of 3 * 3 (without offset), and get 6 feature maps. The size of each feature map is 32−3 + 1 = 30.\n",
    "# That is, the number of neurons has been reduced from 1024 to 30 ∗ 30 = 900 .\n",
    "# Parameters between input layer and C1 layer: 6 ∗ (3 ∗ 3 + 1)\n",
    "model.add(Conv2D(6, kernel_size=(3, 3), activation='relu', input_shape=(32, 32, 3)))\n",
    "# The input of this layer is the output of the first layer, which is a 30 * 30 * 6 node matrix.\n",
    "# The size of the filter used in this layer is 2 * 2, and the step length and width are both 2, so the output matrix size of this layer is 14 * 14 * 6.\n",
    "model.add(MaxPooling2D(pool_size=(2, 2)))\n",
    "# The input matrix size of this layer is 15 * 15 * 6, the filter size used is 3 * 3, and the depth is 16. This layer does not use all 0 padding, and the step size is 1.\n",
    "# The output matrix size of this layer is 13 * 13 * 16. This layer has 3 * 3 * 6 * 16 + 16 = 880 parameters\n",
    "model.add(Conv2D(16, kernel_size=(3, 3), activation='relu'))\n",
    "# The input matrix size of this layer is 13 * 13- * 16. The size of the filter used in this layer is 2 * 2, and the length and width steps are both 2, so the output matrix size of this layer is 5 * 5 * 16.\n",
    "model.add(MaxPooling2D(pool_size=(2, 2)))\n",
    "# The input matrix size of this layer is 6 * 6 * 16. This layer is called a convolution layer in the LeNet-5 paper, but because the size of the filter is 3 * 3, #\n",
    "# So it is not different from the fully connected layer. If the nodes in the 3 * 3 * 16 matrix are pulled into a vector, then this layer is the same as the fully connected layer.\n",
    "# The number of output nodes in this layer is 120, with a total of 3 * 3 * 16 * 120 + 120 = 17400 parameters.\n",
    "model.add(Flatten())\n",
    "model.add(Dense(120, activation='relu'))\n",
    "# The number of input nodes in this layer is 120 and the number of output nodes is 84. The total parameter is 120 * 84 + 84 = 10164 (w + b)\n",
    "model.add(Dense(84, activation='relu'))\n",
    "# The number of input nodes in this layer is 84 and the number of output nodes is 10. The total parameter is 84 * 10 + 10 = 850\n",
    "model.add(Dense(5, activation='softmax'))\n",
    "model.compile(loss=keras.metrics.categorical_crossentropy, optimizer=keras.optimizers.Adam(), metrics=['accuracy'])"
   ]
  },
  {
   "cell_type": "code",
   "execution_count": 3,
   "metadata": {},
   "outputs": [
    {
     "name": "stdout",
     "output_type": "stream",
     "text": [
      "Found 47 images belonging to 5 classes.\n",
      "Found 10 images belonging to 5 classes.\n",
      "Epoch 1/25\n",
      "3/3 [==============================] - 1s 182ms/step - loss: 1.6386 - accuracy: 0.2340 - val_loss: 1.6042 - val_accuracy: 0.3000\n",
      "Epoch 2/25\n",
      "3/3 [==============================] - 0s 101ms/step - loss: 1.5636 - accuracy: 0.3404 - val_loss: 1.5826 - val_accuracy: 0.3000\n",
      "Epoch 3/25\n",
      "3/3 [==============================] - 0s 124ms/step - loss: 1.5410 - accuracy: 0.3617 - val_loss: 1.5679 - val_accuracy: 0.3000\n",
      "Epoch 4/25\n",
      "3/3 [==============================] - 0s 107ms/step - loss: 1.5015 - accuracy: 0.3830 - val_loss: 1.5405 - val_accuracy: 0.5000\n",
      "Epoch 5/25\n",
      "3/3 [==============================] - 0s 131ms/step - loss: 1.4656 - accuracy: 0.4255 - val_loss: 1.5108 - val_accuracy: 0.4000\n",
      "Epoch 6/25\n",
      "3/3 [==============================] - 0s 145ms/step - loss: 1.4126 - accuracy: 0.4043 - val_loss: 1.4661 - val_accuracy: 0.5000\n",
      "Epoch 7/25\n",
      "3/3 [==============================] - 0s 121ms/step - loss: 1.3602 - accuracy: 0.5957 - val_loss: 1.4392 - val_accuracy: 0.4000\n",
      "Epoch 8/25\n",
      "3/3 [==============================] - 0s 102ms/step - loss: 1.2980 - accuracy: 0.5957 - val_loss: 1.3797 - val_accuracy: 0.5000\n",
      "Epoch 9/25\n",
      "3/3 [==============================] - 0s 128ms/step - loss: 1.2007 - accuracy: 0.5319 - val_loss: 1.3267 - val_accuracy: 0.4000\n",
      "Epoch 10/25\n",
      "3/3 [==============================] - 0s 104ms/step - loss: 1.1201 - accuracy: 0.6383 - val_loss: 1.3285 - val_accuracy: 0.3000\n",
      "Epoch 11/25\n",
      "3/3 [==============================] - 0s 102ms/step - loss: 1.0309 - accuracy: 0.6383 - val_loss: 1.2829 - val_accuracy: 0.3000\n",
      "Epoch 12/25\n",
      "3/3 [==============================] - 0s 133ms/step - loss: 0.9987 - accuracy: 0.5745 - val_loss: 1.2467 - val_accuracy: 0.3000\n",
      "Epoch 13/25\n",
      "3/3 [==============================] - 0s 134ms/step - loss: 0.8955 - accuracy: 0.5745 - val_loss: 1.2894 - val_accuracy: 0.4000\n",
      "Epoch 14/25\n",
      "3/3 [==============================] - 0s 133ms/step - loss: 0.8768 - accuracy: 0.6596 - val_loss: 1.1370 - val_accuracy: 0.5000\n",
      "Epoch 15/25\n",
      "3/3 [==============================] - 0s 132ms/step - loss: 0.8344 - accuracy: 0.6170 - val_loss: 1.0701 - val_accuracy: 0.4000\n",
      "Epoch 16/25\n",
      "3/3 [==============================] - 0s 104ms/step - loss: 0.7648 - accuracy: 0.6383 - val_loss: 1.2709 - val_accuracy: 0.4000\n",
      "Epoch 17/25\n",
      "3/3 [==============================] - 0s 129ms/step - loss: 0.8085 - accuracy: 0.7447 - val_loss: 1.2758 - val_accuracy: 0.5000\n",
      "Epoch 18/25\n",
      "3/3 [==============================] - 0s 104ms/step - loss: 0.6692 - accuracy: 0.7660 - val_loss: 0.9389 - val_accuracy: 0.5000\n",
      "Epoch 19/25\n",
      "3/3 [==============================] - 0s 136ms/step - loss: 0.6861 - accuracy: 0.7660 - val_loss: 0.9789 - val_accuracy: 0.6000\n",
      "Epoch 20/25\n",
      "3/3 [==============================] - 0s 129ms/step - loss: 0.7067 - accuracy: 0.6809 - val_loss: 1.1719 - val_accuracy: 0.5000\n",
      "Epoch 21/25\n",
      "3/3 [==============================] - 0s 119ms/step - loss: 0.6429 - accuracy: 0.7660 - val_loss: 1.0696 - val_accuracy: 0.6000\n",
      "Epoch 22/25\n",
      "3/3 [==============================] - 0s 141ms/step - loss: 0.6017 - accuracy: 0.7447 - val_loss: 1.0189 - val_accuracy: 0.5000\n",
      "Epoch 23/25\n",
      "3/3 [==============================] - 0s 146ms/step - loss: 0.5721 - accuracy: 0.7660 - val_loss: 0.9975 - val_accuracy: 0.5000\n",
      "Epoch 24/25\n",
      "3/3 [==============================] - 0s 136ms/step - loss: 0.5127 - accuracy: 0.7872 - val_loss: 0.8852 - val_accuracy: 0.7000\n",
      "Epoch 25/25\n",
      "3/3 [==============================] - 0s 112ms/step - loss: 0.5657 - accuracy: 0.7660 - val_loss: 1.0355 - val_accuracy: 0.7000\n"
     ]
    },
    {
     "data": {
      "text/plain": [
       "<keras.callbacks.callbacks.History at 0x21f84908548>"
      ]
     },
     "execution_count": 3,
     "metadata": {},
     "output_type": "execute_result"
    }
   ],
   "source": [
    "# Part 2 - Fitting the CNN to the images\n",
    "\n",
    "from keras.preprocessing.image import ImageDataGenerator\n",
    "\n",
    "train_datagen = ImageDataGenerator(rescale = 1./255,\n",
    "                                   shear_range = 0.2,\n",
    "                                   zoom_range = 0.2,\n",
    "                                   horizontal_flip = True)\n",
    "\n",
    "test_datagen = ImageDataGenerator(rescale = 1./255)\n",
    "\n",
    "training_set = train_datagen.flow_from_directory('master_dataset/train',\n",
    "                                                 target_size = (32, 32),\n",
    "                                                 batch_size = 16,\n",
    "                                                 class_mode = 'categorical')\n",
    "\n",
    "test_set = test_datagen.flow_from_directory('master_dataset/test',\n",
    "                                            target_size = (32, 32),\n",
    "                                            batch_size = 16,\n",
    "                                            class_mode = 'categorical')\n",
    "model.fit_generator(training_set,\n",
    "                    steps_per_epoch = len(training_set),\n",
    "                    epochs = 25,\n",
    "                    validation_data = test_set,    \n",
    "                    validation_steps = len(test_set))"
   ]
  },
  {
   "cell_type": "code",
   "execution_count": 4,
   "metadata": {},
   "outputs": [
    {
     "name": "stdout",
     "output_type": "stream",
     "text": [
      "Saved model to disk\n"
     ]
    }
   ],
   "source": [
    "model.save(\"model_Leenet.h5\")\n",
    "print(\"Saved model to disk\")\n"
   ]
  },
  {
   "cell_type": "code",
   "execution_count": 8,
   "metadata": {},
   "outputs": [
    {
     "name": "stdout",
     "output_type": "stream",
     "text": [
      "[[0. 0. 0. 0. 1.]]\n"
     ]
    }
   ],
   "source": [
    "import numpy as np\n",
    "from keras.preprocessing import image\n",
    "test_image = image.load_img('master_dataset/test/Spider/spider 13.jpg', target_size = (32, 32))\n",
    "test_image = image.img_to_array(test_image)\n",
    "test_image = np.expand_dims(test_image, axis = 0)\n",
    "result = model.predict(test_image)\n",
    "training_set.class_indices\n",
    "print(result)\n"
   ]
  },
  {
   "cell_type": "code",
   "execution_count": 9,
   "metadata": {},
   "outputs": [
    {
     "name": "stdout",
     "output_type": "stream",
     "text": [
      "Spider\n"
     ]
    }
   ],
   "source": [
    "if result[0][0] == 1:\n",
    "    prediction = 'Apple'\n",
    "    print(prediction)\n",
    "elif result[0][1] == 2:\n",
    "    prediction = 'Cat'\n",
    "    print(prediction)\n",
    "elif result[0][2] == 3:\n",
    "    prediction = 'Dog'\n",
    "    print(prediction)\n",
    "elif result[0][3] == 4:\n",
    "    prediction = 'Lemon'\n",
    "    print(prediction)\n",
    "else:\n",
    "    prediction = 'Spider'\n",
    "    print(prediction)"
   ]
  },
  {
   "cell_type": "code",
   "execution_count": null,
   "metadata": {},
   "outputs": [],
   "source": []
  },
  {
   "cell_type": "code",
   "execution_count": null,
   "metadata": {},
   "outputs": [],
   "source": []
  },
  {
   "cell_type": "code",
   "execution_count": null,
   "metadata": {},
   "outputs": [],
   "source": []
  }
 ],
 "metadata": {
  "kernelspec": {
   "display_name": "Python 3",
   "language": "python",
   "name": "python3"
  },
  "language_info": {
   "codemirror_mode": {
    "name": "ipython",
    "version": 3
   },
   "file_extension": ".py",
   "mimetype": "text/x-python",
   "name": "python",
   "nbconvert_exporter": "python",
   "pygments_lexer": "ipython3",
   "version": "3.7.4"
  }
 },
 "nbformat": 4,
 "nbformat_minor": 4
}
